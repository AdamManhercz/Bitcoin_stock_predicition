{
 "cells": [
  {
   "cell_type": "markdown",
   "id": "23490715",
   "metadata": {
    "heading_collapsed": true
   },
   "source": [
    "# Import"
   ]
  },
  {
   "cell_type": "code",
   "execution_count": 1,
   "id": "78ddd6b7",
   "metadata": {
    "hidden": true
   },
   "outputs": [],
   "source": [
    "# Basic libraries\n",
    "import pandas as pd\n",
    "import numpy as np\n",
    "import matplotlib.pyplot as plt\n",
    "%matplotlib inline\n",
    "\n",
    "# Evaluate metrics\n",
    "from sklearn.metrics import mean_squared_error, mean_absolute_percentage_error\n",
    "\n",
    "# RNN - LSTM \n",
    "from keras.models import Sequential\n",
    "from keras.layers import LSTM\n",
    "from keras.layers import Dense\n",
    "from keras.layers import Dropout\n",
    "\n",
    "# To avoid warning messages\n",
    "import warnings\n",
    "warnings.filterwarnings(\"ignore\")"
   ]
  },
  {
   "cell_type": "code",
   "execution_count": 2,
   "id": "d8249a36",
   "metadata": {
    "hidden": true
   },
   "outputs": [],
   "source": [
    "# Bitcoin dataset 2021-02-16/2022-02-16\n",
    "df = pd.read_csv(\"./BTC-USD.csv\", parse_dates=['Date'], index_col=[\"Date\"])\n",
    "\n",
    "data = df[\"Close\"]\n",
    "train = data[:257]\n",
    "test = data[257:]"
   ]
  },
  {
   "cell_type": "markdown",
   "id": "5aa06ba6",
   "metadata": {
    "heading_collapsed": true
   },
   "source": [
    "# RNN - LSTM"
   ]
  },
  {
   "cell_type": "markdown",
   "id": "c6a9c26d",
   "metadata": {
    "hidden": true
   },
   "source": [
    "Long Short-Term Memory model is a type of Recurrent Neural Network, which is able to store recent values, evaluate and filter them with the gates and hidden layers in order to have proper prediction. "
   ]
  },
  {
   "cell_type": "markdown",
   "id": "f2ea5797",
   "metadata": {
    "heading_collapsed": true,
    "hidden": true
   },
   "source": [
    "## Preprocessing "
   ]
  },
  {
   "cell_type": "code",
   "execution_count": 3,
   "id": "f06c950f",
   "metadata": {
    "hidden": true
   },
   "outputs": [],
   "source": [
    "from sklearn.preprocessing import MinMaxScaler"
   ]
  },
  {
   "cell_type": "markdown",
   "id": "32c4549f",
   "metadata": {
    "hidden": true
   },
   "source": [
    "To get the acceptable values for sigmoid(0,1) and hyperbolic tanget(-1,1) functions MinMaxScaler process our values between 0 and 1."
   ]
  },
  {
   "cell_type": "code",
   "execution_count": 4,
   "id": "dd0c9985",
   "metadata": {
    "hidden": true
   },
   "outputs": [
    {
     "data": {
      "text/plain": [
       "MinMaxScaler()"
      ]
     },
     "execution_count": 4,
     "metadata": {},
     "output_type": "execute_result"
    }
   ],
   "source": [
    "scaler = MinMaxScaler()\n",
    "\n",
    "train1 = np.array(train).reshape(-1,1)\n",
    "test1 = np.array(test).reshape(-1,1)\n",
    "scaler.fit(train1)"
   ]
  },
  {
   "cell_type": "code",
   "execution_count": 5,
   "id": "33fe051b",
   "metadata": {
    "hidden": true
   },
   "outputs": [],
   "source": [
    "train_scaled = scaler.transform(train1)\n",
    "test_scaled = scaler.transform(test1)"
   ]
  },
  {
   "cell_type": "markdown",
   "id": "fa547d22",
   "metadata": {
    "hidden": true
   },
   "source": [
    "LSTM model requires the input data in 3D form(batch/num of samples, num of timesteps, num of features), so first we have to convert our data."
   ]
  },
  {
   "cell_type": "code",
   "execution_count": 6,
   "id": "1ea463e0",
   "metadata": {
    "hidden": true
   },
   "outputs": [],
   "source": [
    "# Creating training sets for fitting the model\n",
    "\n",
    "# timestep = 25 had the best model evaluation\n",
    "timestep = 25\n",
    "\n",
    "X_train = []\n",
    "y_train = []\n",
    "\n",
    "# the timestep will determine the loop range, each batch will contain timestep number of values\n",
    "# with these number of values will the model predict the next value\n",
    "for i in range(timestep, len(train)-timestep):\n",
    "    X_train.append(train_scaled[i-timestep:i, 0])\n",
    "    y_train.append(train_scaled[i, 0])"
   ]
  },
  {
   "cell_type": "code",
   "execution_count": 7,
   "id": "24f43d31",
   "metadata": {
    "hidden": true
   },
   "outputs": [],
   "source": [
    "X_train, y_train = np.array(X_train), np.array(y_train)\n",
    "X_train = np.reshape(X_train, (X_train.shape[0], X_train.shape[1], 1))"
   ]
  },
  {
   "cell_type": "markdown",
   "id": "00a9be45",
   "metadata": {
    "hidden": true
   },
   "source": [
    "Each batch(in all 227) has 25 values in it, which will provide the 25 recent values to predict the next one."
   ]
  },
  {
   "cell_type": "code",
   "execution_count": 8,
   "id": "2fd20bfe",
   "metadata": {
    "hidden": true
   },
   "outputs": [
    {
     "name": "stdout",
     "output_type": "stream",
     "text": [
      "(207, 25, 1)\n",
      "(207,)\n"
     ]
    }
   ],
   "source": [
    "print(X_train.shape)\n",
    "print(y_train.shape)"
   ]
  },
  {
   "cell_type": "markdown",
   "id": "56db984e",
   "metadata": {
    "heading_collapsed": true,
    "hidden": true
   },
   "source": [
    "## RNN model and layers"
   ]
  },
  {
   "cell_type": "code",
   "execution_count": 9,
   "id": "bcd89870",
   "metadata": {
    "hidden": true
   },
   "outputs": [],
   "source": [
    "# Setting up our Sequential API with 4 hidden layers with 50 neuron units and 20% dropout. \n",
    "# Using \"adam\" optimizer and \"mse\" for th loss to compile the  model.\n",
    "\n",
    "model = Sequential()\n",
    "\n",
    "model.add(LSTM(50, input_shape=(timestep,1), return_sequences=True ))\n",
    "model.add(Dropout(0.2))\n",
    "\n",
    "model.add(LSTM(50, return_sequences=True ))\n",
    "model.add(Dropout(0.2))\n",
    "\n",
    "model.add(LSTM(50, return_sequences=True ))\n",
    "model.add(Dropout(0.2))\n",
    "\n",
    "model.add(LSTM(50))\n",
    "\n",
    "model.add(Dense(1))\n",
    "\n",
    "model.compile(loss=\"mse\", optimizer=\"adam\")"
   ]
  },
  {
   "cell_type": "code",
   "execution_count": 10,
   "id": "b87b8ba5",
   "metadata": {
    "hidden": true
   },
   "outputs": [
    {
     "name": "stdout",
     "output_type": "stream",
     "text": [
      "Model: \"sequential\"\n",
      "_________________________________________________________________\n",
      " Layer (type)                Output Shape              Param #   \n",
      "=================================================================\n",
      " lstm (LSTM)                 (None, 25, 50)            10400     \n",
      "                                                                 \n",
      " dropout (Dropout)           (None, 25, 50)            0         \n",
      "                                                                 \n",
      " lstm_1 (LSTM)               (None, 25, 50)            20200     \n",
      "                                                                 \n",
      " dropout_1 (Dropout)         (None, 25, 50)            0         \n",
      "                                                                 \n",
      " lstm_2 (LSTM)               (None, 25, 50)            20200     \n",
      "                                                                 \n",
      " dropout_2 (Dropout)         (None, 25, 50)            0         \n",
      "                                                                 \n",
      " lstm_3 (LSTM)               (None, 50)                20200     \n",
      "                                                                 \n",
      " dense (Dense)               (None, 1)                 51        \n",
      "                                                                 \n",
      "=================================================================\n",
      "Total params: 71,051\n",
      "Trainable params: 71,051\n",
      "Non-trainable params: 0\n",
      "_________________________________________________________________\n"
     ]
    }
   ],
   "source": [
    "# Model summary\n",
    "model.summary()"
   ]
  },
  {
   "cell_type": "code",
   "execution_count": 11,
   "id": "dc5f10e1",
   "metadata": {
    "hidden": true
   },
   "outputs": [
    {
     "name": "stdout",
     "output_type": "stream",
     "text": [
      "Epoch 1/20\n",
      "7/7 [==============================] - 4s 37ms/step - loss: 0.1532\n",
      "Epoch 2/20\n",
      "7/7 [==============================] - 0s 32ms/step - loss: 0.0400\n",
      "Epoch 3/20\n",
      "7/7 [==============================] - 0s 29ms/step - loss: 0.0315\n",
      "Epoch 4/20\n",
      "7/7 [==============================] - 0s 29ms/step - loss: 0.0272\n",
      "Epoch 5/20\n",
      "7/7 [==============================] - 0s 29ms/step - loss: 0.0237\n",
      "Epoch 6/20\n",
      "7/7 [==============================] - 0s 31ms/step - loss: 0.0233\n",
      "Epoch 7/20\n",
      "7/7 [==============================] - 0s 31ms/step - loss: 0.0214\n",
      "Epoch 8/20\n",
      "7/7 [==============================] - 0s 30ms/step - loss: 0.0215\n",
      "Epoch 9/20\n",
      "7/7 [==============================] - 0s 31ms/step - loss: 0.0199\n",
      "Epoch 10/20\n",
      "7/7 [==============================] - 0s 29ms/step - loss: 0.0207\n",
      "Epoch 11/20\n",
      "7/7 [==============================] - 0s 29ms/step - loss: 0.0187\n",
      "Epoch 12/20\n",
      "7/7 [==============================] - 0s 28ms/step - loss: 0.0182\n",
      "Epoch 13/20\n",
      "7/7 [==============================] - 0s 29ms/step - loss: 0.0184\n",
      "Epoch 14/20\n",
      "7/7 [==============================] - 0s 29ms/step - loss: 0.0169\n",
      "Epoch 15/20\n",
      "7/7 [==============================] - 0s 31ms/step - loss: 0.0165\n",
      "Epoch 16/20\n",
      "7/7 [==============================] - 0s 30ms/step - loss: 0.0172\n",
      "Epoch 17/20\n",
      "7/7 [==============================] - 0s 30ms/step - loss: 0.0161\n",
      "Epoch 18/20\n",
      "7/7 [==============================] - 0s 31ms/step - loss: 0.0161\n",
      "Epoch 19/20\n",
      "7/7 [==============================] - 0s 30ms/step - loss: 0.0155\n",
      "Epoch 20/20\n",
      "7/7 [==============================] - 0s 29ms/step - loss: 0.0186\n"
     ]
    },
    {
     "data": {
      "text/plain": [
       "<keras.callbacks.History at 0x1f2cc5ef130>"
      ]
     },
     "execution_count": 11,
     "metadata": {},
     "output_type": "execute_result"
    }
   ],
   "source": [
    "# Fitting our model with training data\n",
    "model.fit(X_train, y_train, epochs=20)"
   ]
  },
  {
   "cell_type": "code",
   "execution_count": 12,
   "id": "52d19847",
   "metadata": {
    "hidden": true
   },
   "outputs": [
    {
     "data": {
      "image/png": "[encoded data removed]",
      "text/plain": [
       "<Figure size 432x288 with 1 Axes>"
      ]
     },
     "metadata": {
      "needs_background": "light"
     },
     "output_type": "display_data"
    }
   ],
   "source": [
    "# Checking our loss through the epochs\n",
    "\n",
    "epoch_loss = model.history.history[\"loss\"]\n",
    "\n",
    "plt.title(\"MSE loss per epoch\")\n",
    "\n",
    "plt.plot(range(len(epoch_loss)), epoch_loss)\n",
    "\n",
    "plt.xlabel(\"Epochs\")\n",
    "plt.ylabel(\"Loss\")\n",
    "\n",
    "plt.show()"
   ]
  },
  {
   "cell_type": "code",
   "execution_count": 13,
   "id": "6556e057",
   "metadata": {
    "hidden": true
   },
   "outputs": [],
   "source": [
    "# Converting the test set for prediction\n",
    "X_test = []\n",
    "\n",
    "for i in range(timestep, len(test)):\n",
    "    X_test.append(test_scaled[i-timestep:i, 0])\n",
    "    \n",
    "X_test = np.array(X_test)\n",
    "\n",
    "X_test = np.reshape(X_test, (X_test.shape[0], X_test.shape[1], 1))"
   ]
  },
  {
   "cell_type": "code",
   "execution_count": 14,
   "id": "b0c2ecee",
   "metadata": {
    "hidden": true
   },
   "outputs": [
    {
     "data": {
      "text/plain": [
       "(84, 25, 1)"
      ]
     },
     "execution_count": 14,
     "metadata": {},
     "output_type": "execute_result"
    }
   ],
   "source": [
    "# Shape of the test set \n",
    "X_test.shape"
   ]
  },
  {
   "cell_type": "markdown",
   "id": "654e2b44",
   "metadata": {
    "hidden": true
   },
   "source": [
    "Another way to convert our input train and test data to an acceptable 3D form for the model is using TimeseriesGenerator.\n",
    "\n",
    "    from keras.preprocessing.sequence import TimeseriesGenerator\n",
    "\n",
    "    train_gen = TimeseriesGenerator(train_scaled, train_scaled, length=timestep, batch_size=20)\n",
    "\n",
    "    test_gen = TimeseriesGenerator(test_scaled, test_scaled, length=timestep, batch_size=1)\n",
    "    \n",
    "    model.fit_generator(train_gen, epochs=20)\n",
    "    \n",
    "    prediction_lstm = model.predict_generator(test_gen)"
   ]
  },
  {
   "cell_type": "code",
   "execution_count": 15,
   "id": "67bc2b11",
   "metadata": {
    "hidden": true
   },
   "outputs": [
    {
     "data": {
      "text/plain": [
       "84"
      ]
     },
     "execution_count": 15,
     "metadata": {},
     "output_type": "execute_result"
    }
   ],
   "source": [
    "pred_lstm = model.predict(X_test)\n",
    "pred_lstm = scaler.inverse_transform(pred_lstm)\n",
    "\n",
    "len(pred_lstm)"
   ]
  },
  {
   "cell_type": "code",
   "execution_count": 16,
   "id": "66f3bddb",
   "metadata": {
    "hidden": true
   },
   "outputs": [
    {
     "data": {
      "image/png": "[encoded data removed]",
      "text/plain": [
       "<Figure size 864x360 with 1 Axes>"
      ]
     },
     "metadata": {
      "needs_background": "light"
     },
     "output_type": "display_data"
    }
   ],
   "source": [
    "plt.figure(figsize=(12,5))\n",
    "\n",
    "plt.title(\"Test set prediction - LSTM\")\n",
    "plt.xlabel(\"Stock price\")\n",
    "plt.ylabel(\"Date\")\n",
    "\n",
    "# len(data): 366 - (len(test): 109 - timestep) \n",
    "plt.plot(data[:len(data)-(len(test)-timestep)], label = \"Real  price - Train set\")\n",
    "plt.plot(test.index[timestep:], test[timestep:], label = \"Real  price - Test set\")\n",
    "plt.plot(test.index[timestep:], pred_lstm, label = \"Test prediction\")\n",
    "         \n",
    "plt.legend()\n",
    "\n",
    "plt.show()"
   ]
  },
  {
   "cell_type": "markdown",
   "id": "7079d479",
   "metadata": {
    "heading_collapsed": true,
    "hidden": true
   },
   "source": [
    "## Evaluate"
   ]
  },
  {
   "cell_type": "code",
   "execution_count": 17,
   "id": "5f1904f5",
   "metadata": {
    "hidden": true
   },
   "outputs": [],
   "source": [
    "rmse_lstm = mean_squared_error(test[timestep:], pred_lstm, squared=False) "
   ]
  },
  {
   "cell_type": "code",
   "execution_count": 18,
   "id": "1cbed212",
   "metadata": {
    "hidden": true
   },
   "outputs": [],
   "source": [
    "mape_lstm = mean_absolute_percentage_error(test[timestep:], pred_lstm)"
   ]
  },
  {
   "cell_type": "code",
   "execution_count": 19,
   "id": "5c005f2e",
   "metadata": {
    "hidden": true
   },
   "outputs": [
    {
     "name": "stdout",
     "output_type": "stream",
     "text": [
      "2938.144554999487\n",
      "0.05266769863711422\n"
     ]
    }
   ],
   "source": [
    "print(rmse_lstm)\n",
    "print(mape_lstm)"
   ]
  },
  {
   "cell_type": "markdown",
   "id": "92d4d8be",
   "metadata": {
    "heading_collapsed": true
   },
   "source": [
    "# Forecast"
   ]
  },
  {
   "cell_type": "markdown",
   "id": "2774d480",
   "metadata": {
    "hidden": true
   },
   "source": [
    "For the forecast I used a different method of preparation for the model in order to have hopefully a more natural prediction.\n",
    "\n",
    "I set not only the timestep I want to have backwards, but the forecast lenght that determines the batch size of the output as well."
   ]
  },
  {
   "cell_type": "code",
   "execution_count": 20,
   "id": "57ce6c18",
   "metadata": {
    "hidden": true
   },
   "outputs": [],
   "source": [
    "# The method is almost the same as before\n",
    "\n",
    "data = np.array(data).reshape(-1,1)\n",
    "\n",
    "data_scaled = scaler.fit_transform(data)\n",
    "\n",
    "# Setting the timestep and the forecast\n",
    "timestep = 25\n",
    "forecast = 50\n",
    "\n",
    "X_train = []\n",
    "y_train = []\n",
    "\n",
    "# Here is the twist, forming the batch sizes differently like previously\n",
    "for i in range(timestep, len(data) - forecast + 1):\n",
    "    X_train.append(data_scaled[i - timestep: i])\n",
    "    y_train.append(data_scaled[i: i + forecast])\n",
    "    \n",
    "X_train, y_train = np.array(X_train), np.array(y_train)\n",
    "\n",
    "X_test = data_scaled[-timestep:]\n",
    "X_test = X_test.reshape(1, timestep, 1)"
   ]
  },
  {
   "cell_type": "code",
   "execution_count": 21,
   "id": "2dd0e149",
   "metadata": {
    "hidden": true
   },
   "outputs": [
    {
     "name": "stdout",
     "output_type": "stream",
     "text": [
      "(292, 25, 1)\n",
      "(292, 50, 1)\n"
     ]
    }
   ],
   "source": [
    "# Here is how the timestep and forecast volume influence the batch sizes\n",
    "print(X_train.shape)\n",
    "print(y_train.shape)"
   ]
  },
  {
   "cell_type": "code",
   "execution_count": 22,
   "id": "28284ee7",
   "metadata": {
    "hidden": true
   },
   "outputs": [],
   "source": [
    "model1 = Sequential()\n",
    "\n",
    "model1.add(LSTM(50, input_shape=(timestep,1), return_sequences=True ))\n",
    "model1.add(Dropout(0.2))\n",
    "\n",
    "model1.add(LSTM(50, return_sequences=True ))\n",
    "model1.add(Dropout(0.2))\n",
    "\n",
    "model1.add(LSTM(50, return_sequences=True ))\n",
    "model1.add(Dropout(0.2))\n",
    "\n",
    "model1.add(LSTM(50))\n",
    "\n",
    "# The only difference between the previous Dense layer that now we want to have forecast size output\n",
    "model1.add(Dense(forecast))\n",
    "\n",
    "model1.compile(loss=\"mse\", optimizer=\"adam\")"
   ]
  },
  {
   "cell_type": "code",
   "execution_count": 23,
   "id": "e34f557e",
   "metadata": {
    "hidden": true
   },
   "outputs": [
    {
     "name": "stdout",
     "output_type": "stream",
     "text": [
      "Model: \"sequential_1\"\n",
      "_________________________________________________________________\n",
      " Layer (type)                Output Shape              Param #   \n",
      "=================================================================\n",
      " lstm_4 (LSTM)               (None, 25, 50)            10400     \n",
      "                                                                 \n",
      " dropout_3 (Dropout)         (None, 25, 50)            0         \n",
      "                                                                 \n",
      " lstm_5 (LSTM)               (None, 25, 50)            20200     \n",
      "                                                                 \n",
      " dropout_4 (Dropout)         (None, 25, 50)            0         \n",
      "                                                                 \n",
      " lstm_6 (LSTM)               (None, 25, 50)            20200     \n",
      "                                                                 \n",
      " dropout_5 (Dropout)         (None, 25, 50)            0         \n",
      "                                                                 \n",
      " lstm_7 (LSTM)               (None, 50)                20200     \n",
      "                                                                 \n",
      " dense_1 (Dense)             (None, 50)                2550      \n",
      "                                                                 \n",
      "=================================================================\n",
      "Total params: 73,550\n",
      "Trainable params: 73,550\n",
      "Non-trainable params: 0\n",
      "_________________________________________________________________\n"
     ]
    }
   ],
   "source": [
    "model1.summary()"
   ]
  },
  {
   "cell_type": "code",
   "execution_count": 24,
   "id": "eaed04fd",
   "metadata": {
    "hidden": true
   },
   "outputs": [],
   "source": [
    "last_date = df.index[-1]\n",
    "lstm_dates = pd.date_range(last_date, periods=forecast).tolist()"
   ]
  },
  {
   "cell_type": "code",
   "execution_count": 25,
   "id": "3d1c9b5f",
   "metadata": {
    "hidden": true
   },
   "outputs": [],
   "source": [
    "model1.fit(X_train, y_train, epochs=20, batch_size=32, verbose=0)\n",
    "\n",
    "final_pred_lstm = model1.predict(X_test).reshape(-1,1)\n",
    "final_pred_lstm = scaler.inverse_transform(final_pred_lstm)"
   ]
  },
  {
   "cell_type": "code",
   "execution_count": 26,
   "id": "14d6d465",
   "metadata": {
    "hidden": true
   },
   "outputs": [
    {
     "data": {
      "image/png": "[encoded data removed]",
      "text/plain": [
       "<Figure size 864x360 with 1 Axes>"
      ]
     },
     "metadata": {
      "needs_background": "light"
     },
     "output_type": "display_data"
    }
   ],
   "source": [
    "plt.figure(figsize=(12,5))\n",
    "\n",
    "plt.title(\"Final forecast - LSTM \")\n",
    "plt.xlabel(\"Stock price\")\n",
    "plt.ylabel(\"Date\")\n",
    "\n",
    "plt.plot(df.index, data, label=\"Real\")\n",
    "plt.plot(lstm_dates, final_pred_lstm, label=\"LSTM pred\")\n",
    "\n",
    "plt.legend()\n",
    "\n",
    "plt.show()"
   ]
  },
  {
   "cell_type": "code",
   "execution_count": null,
   "id": "1f74129b",
   "metadata": {
    "hidden": true
   },
   "outputs": [],
   "source": []
  }
 ],
 "metadata": {
  "kernelspec": {
   "display_name": "Python 3",
   "language": "python",
   "name": "python3"
  },
  "language_info": {
   "codemirror_mode": {
    "name": "ipython",
    "version": 3
   },
   "file_extension": ".py",
   "mimetype": "text/x-python",
   "name": "python",
   "nbconvert_exporter": "python",
   "pygments_lexer": "ipython3",
   "version": "3.8.8"
  },
  "toc": {
   "base_numbering": 1,
   "nav_menu": {},
   "number_sections": true,
   "sideBar": true,
   "skip_h1_title": false,
   "title_cell": "Table of Contents",
   "title_sidebar": "Contents",
   "toc_cell": false,
   "toc_position": {},
   "toc_section_display": true,
   "toc_window_display": false
  }
 },
 "nbformat": 4,
 "nbformat_minor": 5
}
